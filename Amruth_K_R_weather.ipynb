{
 "cells": [
  {
   "cell_type": "code",
   "execution_count": 2,
   "metadata": {
    "colab": {
     "base_uri": "https://localhost:8080/"
    },
    "id": "uK0Zh0VDcS_c",
    "outputId": "7b3309a1-75ae-488b-9c4a-e56f28c4d48f"
   },
   "outputs": [
    {
     "name": "stdout",
     "output_type": "stream",
     "text": [
      "Enter the city name: alappuzha\n"
     ]
    }
   ],
   "source": [
    "import requests\n",
    "#import os\n",
    "from datetime import datetime\n",
    "\n",
    "api_key = '469ab8e10f1f8e44093ccadfe83b7c21'\n",
    "location = input(\"Enter the city name: \")\n",
    "\n",
    "complete_api_link = \"https://api.openweathermap.org/data/2.5/weather?q=\"+location+\"&appid=\"+api_key\n",
    "api_link = requests.get(complete_api_link)\n",
    "api_data = api_link.json()\n",
    "\n",
    "#create variables to store and display data\n",
    "temp_city = ((api_data['main']['temp']) - 273.15)\n",
    "weather_desc = api_data['weather'][0]['description']\n",
    "hmdt = api_data['main']['humidity']\n",
    "wind_spd = api_data['wind']['speed']\n",
    "date_time = datetime.now().strftime(\"%d %b %Y | %I:%M:%S %p\")\n",
    "\n",
    "a=\"-------------------------------------------------------------\\n\"\n",
    "b=\"Weather Stats for - {}  || {}\\n\".format(location.upper(), date_time)\n",
    "c=\"-------------------------------------------------------------\\n\"\n",
    "\n",
    "d=\"Current temperature   : {:.2f} deg C\\n\".format(temp_city)\n",
    "e=\"Current weather desc  :\"+weather_desc+\"\\n\"\n",
    "f=\"Current Humidity      :\"+str(hmdt)+\"%\\n\"\n",
    "g=\"Current wind speed    :\"+str(wind_spd)+\" kmph\\n\"\n",
    "\n",
    "file=open(\"weather.txt\",\"w+\")\n",
    "file.write(a+b+c+d+e+f+g)\n",
    "file.close()"
   ]
  },
  {
   "cell_type": "code",
   "execution_count": null,
   "metadata": {},
   "outputs": [],
   "source": []
  }
 ],
 "metadata": {
  "colab": {
   "collapsed_sections": [],
   "name": "Amruth_K_R_weather.ipynb",
   "provenance": []
  },
  "kernelspec": {
   "display_name": "Python 3",
   "language": "python",
   "name": "python3"
  },
  "language_info": {
   "codemirror_mode": {
    "name": "ipython",
    "version": 3
   },
   "file_extension": ".py",
   "mimetype": "text/x-python",
   "name": "python",
   "nbconvert_exporter": "python",
   "pygments_lexer": "ipython3",
   "version": "3.8.8"
  }
 },
 "nbformat": 4,
 "nbformat_minor": 1
}
